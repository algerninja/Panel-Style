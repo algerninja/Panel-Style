{
 "cells": [
  {
   "cell_type": "code",
   "execution_count": 2,
   "id": "c9f0984d-0728-4861-aa73-6d6aadf39512",
   "metadata": {},
   "outputs": [],
   "source": [
    "import pandas as pd\n",
    "import matplotlib.pyplot as plt\n",
    "import panel as pn\n",
    "import numpy as np\n",
    "import holoviews as hv"
   ]
  },
  {
   "cell_type": "code",
   "execution_count": 3,
   "id": "7fb3091f",
   "metadata": {},
   "outputs": [
    {
     "name": "stderr",
     "output_type": "stream",
     "text": [
      "WARNING:param.Plotly00196: Displaying Panel objects in the notebook requires the panel extension to be loaded. Ensure you run pn.extension() before displaying objects in the notebook.\n"
     ]
    },
    {
     "data": {
      "text/plain": [
       "Plotly(dict)"
      ]
     },
     "execution_count": 3,
     "metadata": {},
     "output_type": "execute_result"
    }
   ],
   "source": [
    "import numpy as np\n",
    "import plotly.graph_objs as go\n",
    "\n",
    "xx = np.linspace(-3.5, 3.5, 100)\n",
    "yy = np.linspace(-3.5, 3.5, 100)\n",
    "x, y = np.meshgrid(xx, yy)\n",
    "z = np.exp(-(x-1)**2-y**2)-(x**3+y**4-x/5)*np.exp(-(x**2+y**2))\n",
    "\n",
    "surface = go.Surface(z=z)\n",
    "layout = go.Layout(\n",
    "    title='Plotly 3D Plot',\n",
    "    autosize=False,\n",
    "    width=500,\n",
    "    height=500,\n",
    "    margin=dict(t=50, b=50, r=50, l=50)\n",
    ")\n",
    "fig = dict(data=[surface], layout=layout)\n",
    "\n",
    "\n",
    "plotly_pane = pn.pane.Plotly(fig)\n",
    "plotly_pane"
   ]
  },
  {
   "cell_type": "code",
   "execution_count": 3,
   "id": "7881afb6-0277-474a-9bc8-43c45c195d5a",
   "metadata": {
    "collapsed": true,
    "jupyter": {
     "outputs_hidden": true
    },
    "tags": []
   },
   "outputs": [
    {
     "name": "stdout",
     "output_type": "stream",
     "text": [
      "Defaulting to user installation because normal site-packages is not writeable\n",
      "Requirement already satisfied: holoviews in /home/analista/.local/lib/python3.10/site-packages (1.15.4)\n",
      "Requirement already satisfied: panel>=0.13.1 in /home/analista/.local/lib/python3.10/site-packages (from holoviews) (0.14.4)\n",
      "Requirement already satisfied: numpy>=1.0 in /home/analista/.local/lib/python3.10/site-packages (from holoviews) (1.24.1)\n",
      "Requirement already satisfied: pyviz-comms>=0.7.4 in /home/analista/.local/lib/python3.10/site-packages (from holoviews) (2.2.1)\n",
      "Requirement already satisfied: colorcet in /home/analista/.local/lib/python3.10/site-packages (from holoviews) (3.0.1)\n",
      "Requirement already satisfied: packaging in /home/analista/.local/lib/python3.10/site-packages (from holoviews) (22.0)\n",
      "Requirement already satisfied: pandas>=0.20.0 in /home/analista/.local/lib/python3.10/site-packages (from holoviews) (1.5.2)\n",
      "Requirement already satisfied: param<2.0,>=1.9.3 in /home/analista/.local/lib/python3.10/site-packages (from holoviews) (1.13.0)\n",
      "Requirement already satisfied: pytz>=2020.1 in /home/analista/.local/lib/python3.10/site-packages (from pandas>=0.20.0->holoviews) (2022.7)\n",
      "Requirement already satisfied: python-dateutil>=2.8.1 in /home/analista/.local/lib/python3.10/site-packages (from pandas>=0.20.0->holoviews) (2.8.2)\n",
      "Requirement already satisfied: tqdm>=4.48.0 in /home/analista/.local/lib/python3.10/site-packages (from panel>=0.13.1->holoviews) (4.65.0)\n",
      "Requirement already satisfied: bleach in /home/analista/.local/lib/python3.10/site-packages (from panel>=0.13.1->holoviews) (5.0.1)\n",
      "Requirement already satisfied: requests in /usr/lib/python3/dist-packages (from panel>=0.13.1->holoviews) (2.25.1)\n",
      "Requirement already satisfied: markdown in /home/analista/.local/lib/python3.10/site-packages (from panel>=0.13.1->holoviews) (3.4.1)\n",
      "Requirement already satisfied: bokeh<2.5.0,>=2.4.0 in /home/analista/.local/lib/python3.10/site-packages (from panel>=0.13.1->holoviews) (2.4.3)\n",
      "Requirement already satisfied: pyct>=0.4.4 in /home/analista/.local/lib/python3.10/site-packages (from panel>=0.13.1->holoviews) (0.5.0)\n",
      "Requirement already satisfied: setuptools>=42 in /usr/lib/python3/dist-packages (from panel>=0.13.1->holoviews) (59.6.0)\n",
      "Requirement already satisfied: typing-extensions in /home/analista/.local/lib/python3.10/site-packages (from panel>=0.13.1->holoviews) (4.4.0)\n",
      "Requirement already satisfied: pillow>=7.1.0 in /usr/lib/python3/dist-packages (from bokeh<2.5.0,>=2.4.0->panel>=0.13.1->holoviews) (9.0.1)\n",
      "Requirement already satisfied: Jinja2>=2.9 in /home/analista/.local/lib/python3.10/site-packages (from bokeh<2.5.0,>=2.4.0->panel>=0.13.1->holoviews) (3.1.2)\n",
      "Requirement already satisfied: PyYAML>=3.10 in /home/analista/.local/lib/python3.10/site-packages (from bokeh<2.5.0,>=2.4.0->panel>=0.13.1->holoviews) (6.0)\n",
      "Requirement already satisfied: tornado>=5.1 in /home/analista/.local/lib/python3.10/site-packages (from bokeh<2.5.0,>=2.4.0->panel>=0.13.1->holoviews) (6.1)\n",
      "Requirement already satisfied: six>=1.5 in /usr/lib/python3/dist-packages (from python-dateutil>=2.8.1->pandas>=0.20.0->holoviews) (1.16.0)\n",
      "Requirement already satisfied: webencodings in /home/analista/.local/lib/python3.10/site-packages (from bleach->panel>=0.13.1->holoviews) (0.5.1)\n",
      "Requirement already satisfied: MarkupSafe>=2.0 in /usr/lib/python3/dist-packages (from Jinja2>=2.9->bokeh<2.5.0,>=2.4.0->panel>=0.13.1->holoviews) (2.0.1)\n"
     ]
    }
   ],
   "source": [
    "%pip install holoviews"
   ]
  },
  {
   "cell_type": "code",
   "execution_count": 2,
   "id": "56e14df5-0ac1-478a-b9d7-ef003ec8b469",
   "metadata": {},
   "outputs": [],
   "source": [
    "csv_file = 'EDO_PORTUGUESA_COMPLETE.csv'\n",
    "data = pd.read_csv(csv_file)"
   ]
  },
  {
   "cell_type": "code",
   "execution_count": null,
   "id": "2171db61",
   "metadata": {},
   "outputs": [],
   "source": []
  },
  {
   "cell_type": "code",
   "execution_count": 14,
   "id": "37ffc709-ae00-4a31-92ca-92b4641f7727",
   "metadata": {},
   "outputs": [],
   "source": [
    "# import matplotlib as mpl\n",
    "\n",
    "# mpl.use('agg')\n",
    "\n",
    "# from matplotlib.figure import Figure\n",
    "\n",
    "# def mpl_plot(avg, highlight):\n",
    "#     fig = Figure()\n",
    "#     ax = fig.add_subplot()\n",
    "#     avg.plot(ax=ax)\n",
    "#     if len(highlight): highlight.plot(style='o', ax=ax)\n",
    "#     return fig\n",
    "\n",
    "# def find_outliers(variable='VOTOS', window=30, sigma=10, view_fn=mpl_plot):\n",
    "#     avg = data[variable].rolling(window=window).mean()\n",
    "#     residual = data[variable] - avg\n",
    "#     std = residual.rolling(window=window).std()\n",
    "#     outliers = (np.abs(residual) > std * sigma)\n",
    "#     return view_fn(avg, avg[outliers])"
   ]
  },
  {
   "cell_type": "code",
   "execution_count": 15,
   "id": "f45a710b-5b62-4202-b376-827430e322cf",
   "metadata": {},
   "outputs": [],
   "source": [
    "# find_outliers(variable='VOTOS', window=20, sigma=10)"
   ]
  },
  {
   "cell_type": "code",
   "execution_count": 16,
   "id": "0d60c415-95b6-40b5-a76c-94b02c0e9bf6",
   "metadata": {},
   "outputs": [],
   "source": [
    "# import panel as pn\n",
    "# pn.extension()\n",
    "\n",
    "# window = pn.widgets.IntSlider(name='window', value=30, start=1, end=60)\n",
    "# sigma = pn.widgets.IntSlider(name='sigma', value=10, start=0, end=20)\n",
    "\n",
    "# interactive = pn.bind(find_outliers, window=window, sigma=sigma)"
   ]
  },
  {
   "cell_type": "code",
   "execution_count": 17,
   "id": "f4970cf8-5748-4ee9-8d32-7bfdb33623c9",
   "metadata": {},
   "outputs": [],
   "source": [
    "# first_app = pn.Column(window, sigma, interactive)\n",
    "# first_app"
   ]
  },
  {
   "cell_type": "code",
   "execution_count": 2,
   "id": "74c38d5b-4ac7-4823-89da-7b6e9dd1bbf7",
   "metadata": {},
   "outputs": [
    {
     "data": {
      "application/javascript": "(function(root) {\n  function now() {\n    return new Date();\n  }\n\n  var force = true;\n\n  if (typeof root._bokeh_onload_callbacks === \"undefined\" || force === true) {\n    root._bokeh_onload_callbacks = [];\n    root._bokeh_is_loading = undefined;\n  }\n\n  if (typeof (root._bokeh_timeout) === \"undefined\" || force === true) {\n    root._bokeh_timeout = Date.now() + 5000;\n    root._bokeh_failed_load = false;\n  }\n\n  function run_callbacks() {\n    try {\n      root._bokeh_onload_callbacks.forEach(function(callback) {\n        if (callback != null)\n          callback();\n      });\n    } finally {\n      delete root._bokeh_onload_callbacks\n    }\n    console.debug(\"Bokeh: all callbacks have finished\");\n  }\n\n  function load_libs(css_urls, js_urls, js_modules, callback) {\n    if (css_urls == null) css_urls = [];\n    if (js_urls == null) js_urls = [];\n    if (js_modules == null) js_modules = [];\n\n    root._bokeh_onload_callbacks.push(callback);\n    if (root._bokeh_is_loading > 0) {\n      console.debug(\"Bokeh: BokehJS is being loaded, scheduling callback at\", now());\n      return null;\n    }\n    if (js_urls.length === 0 && js_modules.length === 0) {\n      run_callbacks();\n      return null;\n    }\n    console.debug(\"Bokeh: BokehJS not loaded, scheduling load and callback at\", now());\n\n    function on_load() {\n      root._bokeh_is_loading--;\n      if (root._bokeh_is_loading === 0) {\n        console.debug(\"Bokeh: all BokehJS libraries/stylesheets loaded\");\n        run_callbacks()\n      }\n    }\n\n    function on_error() {\n      console.error(\"failed to load \" + url);\n    }\n\n    for (var i = 0; i < css_urls.length; i++) {\n      var url = css_urls[i];\n      const element = document.createElement(\"link\");\n      element.onload = on_load;\n      element.onerror = on_error;\n      element.rel = \"stylesheet\";\n      element.type = \"text/css\";\n      element.href = url;\n      console.debug(\"Bokeh: injecting link tag for BokehJS stylesheet: \", url);\n      document.body.appendChild(element);\n    }\n\n    var skip = [];\n    if (window.requirejs) {\n      window.requirejs.config({'packages': {}, 'paths': {'gridstack': 'https://cdn.jsdelivr.net/npm/gridstack@4.2.5/dist/gridstack-h5', 'notyf': 'https://cdn.jsdelivr.net/npm/notyf@3/notyf.min'}, 'shim': {'gridstack': {'exports': 'GridStack'}}});\n      require([\"gridstack\"], function(GridStack) {\n\twindow.GridStack = GridStack\n\ton_load()\n      })\n      require([\"notyf\"], function() {\n\ton_load()\n      })\n      root._bokeh_is_loading = css_urls.length + 2;\n    } else {\n      root._bokeh_is_loading = css_urls.length + js_urls.length + js_modules.length;\n    }    if (((window['GridStack'] !== undefined) && (!(window['GridStack'] instanceof HTMLElement))) || window.requirejs) {\n      var urls = ['https://cdn.holoviz.org/panel/0.14.4/dist/bundled/gridstack/gridstack@4.2.5/dist/gridstack-h5.js'];\n      for (var i = 0; i < urls.length; i++) {\n        skip.push(urls[i])\n      }\n    }    if (((window['Notyf'] !== undefined) && (!(window['Notyf'] instanceof HTMLElement))) || window.requirejs) {\n      var urls = ['https://cdn.holoviz.org/panel/0.14.4/dist/bundled/notificationarea/notyf@3/notyf.min.js'];\n      for (var i = 0; i < urls.length; i++) {\n        skip.push(urls[i])\n      }\n    }    for (var i = 0; i < js_urls.length; i++) {\n      var url = js_urls[i];\n      if (skip.indexOf(url) >= 0) {\n\tif (!window.requirejs) {\n\t  on_load();\n\t}\n\tcontinue;\n      }\n      var element = document.createElement('script');\n      element.onload = on_load;\n      element.onerror = on_error;\n      element.async = false;\n      element.src = url;\n      console.debug(\"Bokeh: injecting script tag for BokehJS library: \", url);\n      document.head.appendChild(element);\n    }\n    for (var i = 0; i < js_modules.length; i++) {\n      var url = js_modules[i];\n      if (skip.indexOf(url) >= 0) {\n\tif (!window.requirejs) {\n\t  on_load();\n\t}\n\tcontinue;\n      }\n      var element = document.createElement('script');\n      element.onload = on_load;\n      element.onerror = on_error;\n      element.async = false;\n      element.src = url;\n      element.type = \"module\";\n      console.debug(\"Bokeh: injecting script tag for BokehJS library: \", url);\n      document.head.appendChild(element);\n    }\n    if (!js_urls.length && !js_modules.length) {\n      on_load()\n    }\n  };\n\n  function inject_raw_css(css) {\n    const element = document.createElement(\"style\");\n    element.appendChild(document.createTextNode(css));\n    document.body.appendChild(element);\n  }\n\n  var js_urls = [\"https://cdn.bokeh.org/bokeh/release/bokeh-2.4.3.min.js\", \"https://cdn.bokeh.org/bokeh/release/bokeh-gl-2.4.3.min.js\", \"https://cdn.bokeh.org/bokeh/release/bokeh-widgets-2.4.3.min.js\", \"https://cdn.bokeh.org/bokeh/release/bokeh-tables-2.4.3.min.js\", \"https://cdn.bokeh.org/bokeh/release/bokeh-mathjax-2.4.3.min.js\", \"https://unpkg.com/@holoviz/panel@0.14.4/dist/panel.min.js\"];\n  var js_modules = [];\n  var css_urls = [\"https://cdn.holoviz.org/panel/0.14.4/dist/css/markdown.css\", \"https://cdn.holoviz.org/panel/0.14.4/dist/css/widgets.css\", \"https://cdn.holoviz.org/panel/0.14.4/dist/css/card.css\", \"https://cdn.holoviz.org/panel/0.14.4/dist/css/dataframe.css\", \"https://cdn.holoviz.org/panel/0.14.4/dist/css/json.css\", \"https://cdn.holoviz.org/panel/0.14.4/dist/css/debugger.css\", \"https://cdn.holoviz.org/panel/0.14.4/dist/css/alerts.css\", \"https://cdn.holoviz.org/panel/0.14.4/dist/css/loading.css\"];\n  var inline_js = [    function(Bokeh) {\n      inject_raw_css(\"\\n    .bk.pn-loading.arc:before {\\n      background-image: url(\\\"data:image/svg+xml;base64,PHN2ZyB4bWxucz0iaHR0cDovL3d3dy53My5vcmcvMjAwMC9zdmciIHN0eWxlPSJtYXJnaW46IGF1dG87IGJhY2tncm91bmQ6IG5vbmU7IGRpc3BsYXk6IGJsb2NrOyBzaGFwZS1yZW5kZXJpbmc6IGF1dG87IiB2aWV3Qm94PSIwIDAgMTAwIDEwMCIgcHJlc2VydmVBc3BlY3RSYXRpbz0ieE1pZFlNaWQiPiAgPGNpcmNsZSBjeD0iNTAiIGN5PSI1MCIgZmlsbD0ibm9uZSIgc3Ryb2tlPSIjYzNjM2MzIiBzdHJva2Utd2lkdGg9IjEwIiByPSIzNSIgc3Ryb2tlLWRhc2hhcnJheT0iMTY0LjkzMzYxNDMxMzQ2NDE1IDU2Ljk3Nzg3MTQzNzgyMTM4Ij4gICAgPGFuaW1hdGVUcmFuc2Zvcm0gYXR0cmlidXRlTmFtZT0idHJhbnNmb3JtIiB0eXBlPSJyb3RhdGUiIHJlcGVhdENvdW50PSJpbmRlZmluaXRlIiBkdXI9IjFzIiB2YWx1ZXM9IjAgNTAgNTA7MzYwIDUwIDUwIiBrZXlUaW1lcz0iMDsxIj48L2FuaW1hdGVUcmFuc2Zvcm0+ICA8L2NpcmNsZT48L3N2Zz4=\\\");\\n      background-size: auto calc(min(50%, 400px));\\n    }\\n    \");\n    },    function(Bokeh) {\n      Bokeh.set_log_level(\"info\");\n    },\nfunction(Bokeh) {} // ensure no trailing comma for IE\n  ];\n\n  function run_inline_js() {\n    if ((root.Bokeh !== undefined) || (force === true)) {\n      for (var i = 0; i < inline_js.length; i++) {\n        inline_js[i].call(root, root.Bokeh);\n      }} else if (Date.now() < root._bokeh_timeout) {\n      setTimeout(run_inline_js, 100);\n    } else if (!root._bokeh_failed_load) {\n      console.log(\"Bokeh: BokehJS failed to load within specified timeout.\");\n      root._bokeh_failed_load = true;\n    }\n  }\n\n  if (root._bokeh_is_loading === 0) {\n    console.debug(\"Bokeh: BokehJS loaded, going straight to plotting\");\n    run_inline_js();\n  } else {\n    load_libs(css_urls, js_urls, js_modules, function() {\n      console.debug(\"Bokeh: BokehJS plotting callback run at\", now());\n      run_inline_js();\n    });\n  }\n}(window));",
      "application/vnd.holoviews_load.v0+json": ""
     },
     "metadata": {},
     "output_type": "display_data"
    },
    {
     "data": {
      "application/javascript": "\nif ((window.PyViz === undefined) || (window.PyViz instanceof HTMLElement)) {\n  window.PyViz = {comms: {}, comm_status:{}, kernels:{}, receivers: {}, plot_index: []}\n}\n\n\n    function JupyterCommManager() {\n    }\n\n    JupyterCommManager.prototype.register_target = function(plot_id, comm_id, msg_handler) {\n      if (window.comm_manager || ((window.Jupyter !== undefined) && (Jupyter.notebook.kernel != null))) {\n        var comm_manager = window.comm_manager || Jupyter.notebook.kernel.comm_manager;\n        comm_manager.register_target(comm_id, function(comm) {\n          comm.on_msg(msg_handler);\n        });\n      } else if ((plot_id in window.PyViz.kernels) && (window.PyViz.kernels[plot_id])) {\n        window.PyViz.kernels[plot_id].registerCommTarget(comm_id, function(comm) {\n          comm.onMsg = msg_handler;\n        });\n      } else if (typeof google != 'undefined' && google.colab.kernel != null) {\n        google.colab.kernel.comms.registerTarget(comm_id, (comm) => {\n          var messages = comm.messages[Symbol.asyncIterator]();\n          function processIteratorResult(result) {\n            var message = result.value;\n            console.log(message)\n            var content = {data: message.data, comm_id};\n            var buffers = []\n            for (var buffer of message.buffers || []) {\n              buffers.push(new DataView(buffer))\n            }\n            var metadata = message.metadata || {};\n            var msg = {content, buffers, metadata}\n            msg_handler(msg);\n            return messages.next().then(processIteratorResult);\n          }\n          return messages.next().then(processIteratorResult);\n        })\n      }\n    }\n\n    JupyterCommManager.prototype.get_client_comm = function(plot_id, comm_id, msg_handler) {\n      if (comm_id in window.PyViz.comms) {\n        return window.PyViz.comms[comm_id];\n      } else if (window.comm_manager || ((window.Jupyter !== undefined) && (Jupyter.notebook.kernel != null))) {\n        var comm_manager = window.comm_manager || Jupyter.notebook.kernel.comm_manager;\n        var comm = comm_manager.new_comm(comm_id, {}, {}, {}, comm_id);\n        if (msg_handler) {\n          comm.on_msg(msg_handler);\n        }\n      } else if ((plot_id in window.PyViz.kernels) && (window.PyViz.kernels[plot_id])) {\n        var comm = window.PyViz.kernels[plot_id].connectToComm(comm_id);\n        comm.open();\n        if (msg_handler) {\n          comm.onMsg = msg_handler;\n        }\n      } else if (typeof google != 'undefined' && google.colab.kernel != null) {\n        var comm_promise = google.colab.kernel.comms.open(comm_id)\n        comm_promise.then((comm) => {\n          window.PyViz.comms[comm_id] = comm;\n          if (msg_handler) {\n            var messages = comm.messages[Symbol.asyncIterator]();\n            function processIteratorResult(result) {\n              var message = result.value;\n              var content = {data: message.data};\n              var metadata = message.metadata || {comm_id};\n              var msg = {content, metadata}\n              msg_handler(msg);\n              return messages.next().then(processIteratorResult);\n            }\n            return messages.next().then(processIteratorResult);\n          }\n        }) \n        var sendClosure = (data, metadata, buffers, disposeOnDone) => {\n          return comm_promise.then((comm) => {\n            comm.send(data, metadata, buffers, disposeOnDone);\n          });\n        };\n        var comm = {\n          send: sendClosure\n        };\n      }\n      window.PyViz.comms[comm_id] = comm;\n      return comm;\n    }\n    window.PyViz.comm_manager = new JupyterCommManager();\n    \n\n\nvar JS_MIME_TYPE = 'application/javascript';\nvar HTML_MIME_TYPE = 'text/html';\nvar EXEC_MIME_TYPE = 'application/vnd.holoviews_exec.v0+json';\nvar CLASS_NAME = 'output';\n\n/**\n * Render data to the DOM node\n */\nfunction render(props, node) {\n  var div = document.createElement(\"div\");\n  var script = document.createElement(\"script\");\n  node.appendChild(div);\n  node.appendChild(script);\n}\n\n/**\n * Handle when a new output is added\n */\nfunction handle_add_output(event, handle) {\n  var output_area = handle.output_area;\n  var output = handle.output;\n  if ((output.data == undefined) || (!output.data.hasOwnProperty(EXEC_MIME_TYPE))) {\n    return\n  }\n  var id = output.metadata[EXEC_MIME_TYPE][\"id\"];\n  var toinsert = output_area.element.find(\".\" + CLASS_NAME.split(' ')[0]);\n  if (id !== undefined) {\n    var nchildren = toinsert.length;\n    var html_node = toinsert[nchildren-1].children[0];\n    html_node.innerHTML = output.data[HTML_MIME_TYPE];\n    var scripts = [];\n    var nodelist = html_node.querySelectorAll(\"script\");\n    for (var i in nodelist) {\n      if (nodelist.hasOwnProperty(i)) {\n        scripts.push(nodelist[i])\n      }\n    }\n\n    scripts.forEach( function (oldScript) {\n      var newScript = document.createElement(\"script\");\n      var attrs = [];\n      var nodemap = oldScript.attributes;\n      for (var j in nodemap) {\n        if (nodemap.hasOwnProperty(j)) {\n          attrs.push(nodemap[j])\n        }\n      }\n      attrs.forEach(function(attr) { newScript.setAttribute(attr.name, attr.value) });\n      newScript.appendChild(document.createTextNode(oldScript.innerHTML));\n      oldScript.parentNode.replaceChild(newScript, oldScript);\n    });\n    if (JS_MIME_TYPE in output.data) {\n      toinsert[nchildren-1].children[1].textContent = output.data[JS_MIME_TYPE];\n    }\n    output_area._hv_plot_id = id;\n    if ((window.Bokeh !== undefined) && (id in Bokeh.index)) {\n      window.PyViz.plot_index[id] = Bokeh.index[id];\n    } else {\n      window.PyViz.plot_index[id] = null;\n    }\n  } else if (output.metadata[EXEC_MIME_TYPE][\"server_id\"] !== undefined) {\n    var bk_div = document.createElement(\"div\");\n    bk_div.innerHTML = output.data[HTML_MIME_TYPE];\n    var script_attrs = bk_div.children[0].attributes;\n    for (var i = 0; i < script_attrs.length; i++) {\n      toinsert[toinsert.length - 1].childNodes[1].setAttribute(script_attrs[i].name, script_attrs[i].value);\n    }\n    // store reference to server id on output_area\n    output_area._bokeh_server_id = output.metadata[EXEC_MIME_TYPE][\"server_id\"];\n  }\n}\n\n/**\n * Handle when an output is cleared or removed\n */\nfunction handle_clear_output(event, handle) {\n  var id = handle.cell.output_area._hv_plot_id;\n  var server_id = handle.cell.output_area._bokeh_server_id;\n  if (((id === undefined) || !(id in PyViz.plot_index)) && (server_id !== undefined)) { return; }\n  var comm = window.PyViz.comm_manager.get_client_comm(\"hv-extension-comm\", \"hv-extension-comm\", function () {});\n  if (server_id !== null) {\n    comm.send({event_type: 'server_delete', 'id': server_id});\n    return;\n  } else if (comm !== null) {\n    comm.send({event_type: 'delete', 'id': id});\n  }\n  delete PyViz.plot_index[id];\n  if ((window.Bokeh !== undefined) & (id in window.Bokeh.index)) {\n    var doc = window.Bokeh.index[id].model.document\n    doc.clear();\n    const i = window.Bokeh.documents.indexOf(doc);\n    if (i > -1) {\n      window.Bokeh.documents.splice(i, 1);\n    }\n  }\n}\n\n/**\n * Handle kernel restart event\n */\nfunction handle_kernel_cleanup(event, handle) {\n  delete PyViz.comms[\"hv-extension-comm\"];\n  window.PyViz.plot_index = {}\n}\n\n/**\n * Handle update_display_data messages\n */\nfunction handle_update_output(event, handle) {\n  handle_clear_output(event, {cell: {output_area: handle.output_area}})\n  handle_add_output(event, handle)\n}\n\nfunction register_renderer(events, OutputArea) {\n  function append_mime(data, metadata, element) {\n    // create a DOM node to render to\n    var toinsert = this.create_output_subarea(\n    metadata,\n    CLASS_NAME,\n    EXEC_MIME_TYPE\n    );\n    this.keyboard_manager.register_events(toinsert);\n    // Render to node\n    var props = {data: data, metadata: metadata[EXEC_MIME_TYPE]};\n    render(props, toinsert[0]);\n    element.append(toinsert);\n    return toinsert\n  }\n\n  events.on('output_added.OutputArea', handle_add_output);\n  events.on('output_updated.OutputArea', handle_update_output);\n  events.on('clear_output.CodeCell', handle_clear_output);\n  events.on('delete.Cell', handle_clear_output);\n  events.on('kernel_ready.Kernel', handle_kernel_cleanup);\n\n  OutputArea.prototype.register_mime_type(EXEC_MIME_TYPE, append_mime, {\n    safe: true,\n    index: 0\n  });\n}\n\nif (window.Jupyter !== undefined) {\n  try {\n    var events = require('base/js/events');\n    var OutputArea = require('notebook/js/outputarea').OutputArea;\n    if (OutputArea.prototype.mime_types().indexOf(EXEC_MIME_TYPE) == -1) {\n      register_renderer(events, OutputArea);\n    }\n  } catch(err) {\n  }\n}\n",
      "application/vnd.holoviews_load.v0+json": ""
     },
     "metadata": {},
     "output_type": "display_data"
    },
    {
     "data": {
      "text/html": [
       "<style>.bk-root, .bk-root .bk:before, .bk-root .bk:after {\n",
       "  font-family: var(--jp-ui-font-size1);\n",
       "  font-size: var(--jp-ui-font-size1);\n",
       "  color: var(--jp-ui-font-color1);\n",
       "}\n",
       "</style>"
      ]
     },
     "metadata": {},
     "output_type": "display_data"
    }
   ],
   "source": [
    "pn.extension(comms='ipywidgets')\n",
    "\n",
    "bootstrap = pn.template.BootstrapTemplate(title='Bootstrap Template')\n",
    "\n",
    "xs = np.linspace(0, np.pi)\n",
    "\n",
    "freq = pn.widgets.FloatSlider(name=\"Frequency\", start=0, end=10, value=2).servable(area='sidebar')\n",
    "phase = pn.widgets.FloatSlider(name=\"Phase\", start=0, end=np.pi).servable(area='sidebar')\n",
    "\n",
    "@pn.depends(freq=freq, phase=phase)\n",
    "def sine(freq, phase):\n",
    "    return hv.Curve((xs, np.sin(xs*freq+phase))).opts(\n",
    "        responsive=True, min_height=400)\n",
    "\n",
    "@pn.depends(freq=freq, phase=phase)\n",
    "def cosine(freq, phase):\n",
    "    return hv.Curve((xs, np.cos(xs*freq+phase))).opts(\n",
    "        responsive=True, min_height=400)\n",
    "\n",
    "bootstrap.sidebar.append(freq)\n",
    "bootstrap.sidebar.append(phase)\n",
    "\n",
    "bootstrap.main.append(\n",
    "    pn.Row(\n",
    "        pn.Card(hv.DynamicMap(sine), title='Sine'),\n",
    "        pn.Card(hv.DynamicMap(cosine), title='Cosine')\n",
    "    )\n",
    ")\n",
    "\n",
    "\n",
    "\n",
    "\n",
    "\n"
   ]
  },
  {
   "cell_type": "code",
   "execution_count": 3,
   "id": "64c65f52-e62b-4a9e-b414-19daf51070a4",
   "metadata": {},
   "outputs": [
    {
     "data": {},
     "metadata": {},
     "output_type": "display_data"
    },
    {
     "data": {},
     "metadata": {},
     "output_type": "display_data"
    },
    {
     "data": {
      "application/vnd.holoviews_exec.v0+json": "",
      "text/html": [
       "\n",
       "\n",
       "<link rel=\"icon\" href=\"/static/extensions/panel/images/favicon.ico\" type=\"\"><meta name=\"name\" content=\"Bootstrap Template\"><!-- Template CSS -->\n",
       "<link rel=\"stylesheet\" href=\"static/extensions/panel/bundled/bootstrap4/css/bootstrap.min.css\">\n",
       "<link rel=\"stylesheet\" href=\"static/extensions/panel/bundled/bootstraptemplate/bootstrap.css\">\n",
       "<link rel=\"stylesheet\" href=\"static/extensions/panel/bundled/defaulttheme/default.css\">\n",
       "\n",
       "<style>\n",
       "  #sidebar {\n",
       "    width: 350px;\n",
       "  }\n",
       "</style>\n",
       "\n",
       "<!-- Template JS -->\n",
       "<script src=\"static/extensions/panel/bundled/jquery/jquery.slim.min.js\"></script>\n",
       "<script src=\"static/extensions/panel/bundled/bootstrap4/js/bootstrap.bundle.min.js\"></script>\n",
       "<div class=\"container-fluid d-flex flex-column vh-100 overflow-hidden\" id=\"container\">\n",
       "  <nav class=\"navbar navbar-expand-md navbar-dark sticky-top shadow\" style=\"\" id=\"header\">\n",
       "    <button type=\"button\" class=\"navbar-toggle collapsed\" id=\"sidebarCollapse\">\n",
       "      <span class=\"navbar-toggler-icon\"></span>\n",
       "    </button>\n",
       "    <div class=\"app-header\">\n",
       "<a class=\"title\" href=\"\" >&nbsp;Bootstrap Template</a>    </div>\n",
       "    <div id=\"header-items\">\n",
       "    </div>\n",
       "    <div class=\"pn-busy-container\">\n",
       "      <div class=\"bk-root\" id=\"98cb4a53-f953-457f-bff2-74074ff2cb30\" data-root-id=\"1007\"></div>\n",
       "    </div>\n",
       "  </nav>\n",
       "\n",
       "  <div class=\"row overflow-hidden\" id=\"content\">\n",
       "    <div class=\"sidenav\" id=\"sidebar\">\n",
       "      <ul class=\"nav flex-column\">\n",
       "        <div class=\"bk-root\" id=\"29879f7a-6fb8-4485-8c9f-a650f470fefa\" data-root-id=\"1008\"></div>\n",
       "        <div class=\"bk-root\" id=\"a70f2d67-f1fc-4712-8672-523c852a5889\" data-root-id=\"1009\"></div>\n",
       "      </ul>\n",
       "    </div>\n",
       "\n",
       "    <div class=\"col mh-100 float-left\" id=\"main\">\n",
       "          <div class=\"bk-root\" id=\"c9b5ccce-b5ae-4716-bb7f-cf4c17fe137c\" data-root-id=\"1010\"></div>\n",
       "    </div>\n",
       "  </div>\n",
       "\n",
       "  <div id=\"pn-Modal\" class=\"modal pn-modal\" role=\"dialog\" aria-hidden=\"true\">\n",
       "    <div class=\"modal-dialog\" role=\"document\">\n",
       "      <div class=\"modal-content pn-modal-content\">\n",
       "\t<button class=\"pn-modal-close\" id=\"pn-closeModal\">&times;</button>\n",
       "\t<div class=\"modal-body\">\n",
       "\t</div>\n",
       "      </div>\n",
       "    </div>\n",
       "  </div>\n",
       "</div>\n",
       "\n",
       "<script>\n",
       "  $(document).ready(function () {\n",
       "    $('#sidebarCollapse').on('click', function () {\n",
       "      $('#sidebar').toggleClass('active')\n",
       "      $(this).toggleClass('active')\n",
       "      var interval = setInterval(function () { window.dispatchEvent(new Event('resize')); }, 10);\n",
       "      setTimeout(function () { clearInterval(interval) }, 210)\n",
       "    });\n",
       "  });\n",
       "\n",
       "  var modal = document.getElementById(\"pn-Modal\");\n",
       "  var span = document.getElementById(\"pn-closeModal\");\n",
       "\n",
       "  span.onclick = function() {\n",
       "    modal.style.display = \"none\";\n",
       "  }\n",
       "\n",
       "  window.onclick = function(event) {\n",
       "    if (event.target == modal) {\n",
       "      modal.style.display = \"none\";\n",
       "    }\n",
       "  }\n",
       "</script>\n",
       "\n",
       "<div class=\"bk-root\" id=\"3479e30d-ec21-4640-b1f3-c301dc18005d\" data-root-id=\"1004\"></div>\n",
       "<div class=\"bk-root\" id=\"53bc1191-d795-43f5-82f6-0cb428b26fba\" data-root-id=\"1006\"></div>\n",
       "<div class=\"bk-root\" id=\"a7782ae1-c9cf-4d41-bea9-ad26cb7b9267\" data-root-id=\"1002\"></div>\n",
       "\n",
       "    \n",
       "        <script type=\"application/json\" id=\"1322\">\n",
       "          {\"4ebeca28-a131-466b-ad9f-e243f6413a4e\":{\"defs\":[{\"extends\":null,\"module\":null,\"name\":\"ReactiveHTML1\",\"overrides\":[],\"properties\":[]},{\"extends\":null,\"module\":null,\"name\":\"FlexBox1\",\"overrides\":[],\"properties\":[{\"default\":\"flex-start\",\"kind\":null,\"name\":\"align_content\"},{\"default\":\"flex-start\",\"kind\":null,\"name\":\"align_items\"},{\"default\":\"row\",\"kind\":null,\"name\":\"flex_direction\"},{\"default\":\"wrap\",\"kind\":null,\"name\":\"flex_wrap\"},{\"default\":\"flex-start\",\"kind\":null,\"name\":\"justify_content\"}]},{\"extends\":null,\"module\":null,\"name\":\"GridStack1\",\"overrides\":[],\"properties\":[{\"default\":\"warn\",\"kind\":null,\"name\":\"mode\"},{\"default\":null,\"kind\":null,\"name\":\"ncols\"},{\"default\":null,\"kind\":null,\"name\":\"nrows\"},{\"default\":true,\"kind\":null,\"name\":\"allow_resize\"},{\"default\":true,\"kind\":null,\"name\":\"allow_drag\"},{\"default\":[],\"kind\":null,\"name\":\"state\"}]},{\"extends\":null,\"module\":null,\"name\":\"click1\",\"overrides\":[],\"properties\":[{\"default\":\"\",\"kind\":null,\"name\":\"terminal_output\"},{\"default\":\"\",\"kind\":null,\"name\":\"debug_name\"},{\"default\":0,\"kind\":null,\"name\":\"clears\"}]},{\"extends\":null,\"module\":null,\"name\":\"NotificationAreaBase1\",\"overrides\":[],\"properties\":[{\"default\":\"bottom-right\",\"kind\":null,\"name\":\"position\"},{\"default\":0,\"kind\":null,\"name\":\"_clear\"}]},{\"extends\":null,\"module\":null,\"name\":\"NotificationArea1\",\"overrides\":[],\"properties\":[{\"default\":[],\"kind\":null,\"name\":\"notifications\"},{\"default\":\"bottom-right\",\"kind\":null,\"name\":\"position\"},{\"default\":0,\"kind\":null,\"name\":\"_clear\"},{\"default\":[{\"background\":\"#ffc107\",\"icon\":{\"className\":\"fas fa-exclamation-triangle\",\"color\":\"white\",\"tagName\":\"i\"},\"type\":\"warning\"},{\"background\":\"#007bff\",\"icon\":{\"className\":\"fas fa-info-circle\",\"color\":\"white\",\"tagName\":\"i\"},\"type\":\"info\"}],\"kind\":null,\"name\":\"types\"}]},{\"extends\":null,\"module\":null,\"name\":\"Notification\",\"overrides\":[],\"properties\":[{\"default\":null,\"kind\":null,\"name\":\"background\"},{\"default\":3000,\"kind\":null,\"name\":\"duration\"},{\"default\":null,\"kind\":null,\"name\":\"icon\"},{\"default\":\"\",\"kind\":null,\"name\":\"message\"},{\"default\":null,\"kind\":null,\"name\":\"notification_type\"},{\"default\":false,\"kind\":null,\"name\":\"_destroyed\"}]},{\"extends\":null,\"module\":null,\"name\":\"TemplateActions1\",\"overrides\":[],\"properties\":[{\"default\":0,\"kind\":null,\"name\":\"open_modal\"},{\"default\":0,\"kind\":null,\"name\":\"close_modal\"}]},{\"extends\":null,\"module\":null,\"name\":\"MaterialTemplateActions1\",\"overrides\":[],\"properties\":[{\"default\":0,\"kind\":null,\"name\":\"open_modal\"},{\"default\":0,\"kind\":null,\"name\":\"close_modal\"}]}],\"roots\":{\"references\":[{\"attributes\":{},\"id\":\"1035\",\"type\":\"WheelZoomTool\"},{\"attributes\":{\"axis\":{\"id\":\"1025\"},\"coordinates\":null,\"grid_line_color\":null,\"group\":null,\"ticker\":null},\"id\":\"1028\",\"type\":\"Grid\"},{\"attributes\":{\"client_comm_id\":\"ae0426067892446387e40f0e6d44d6b5\",\"comm_id\":\"153a39b7b19746f4b58a6e4a6ee3faac\",\"name\":\"comm_manager\",\"plot_id\":\"1002\"},\"id\":\"1281\",\"type\":\"panel.models.comm_manager.CommManager\"},{\"attributes\":{\"css_classes\":[\"loader\",\"light\"],\"height\":20,\"margin\":[5,10,5,10],\"name\":\"busy_indicator\",\"sizing_mode\":\"fixed\",\"width\":20},\"id\":\"1007\",\"type\":\"panel.models.markup.HTML\"},{\"attributes\":{\"axis_label\":\"x\",\"coordinates\":null,\"formatter\":{\"id\":\"1055\"},\"group\":null,\"major_label_policy\":{\"id\":\"1056\"},\"ticker\":{\"id\":\"1026\"}},\"id\":\"1025\",\"type\":\"LinearAxis\"},{\"attributes\":{},\"id\":\"1084\",\"type\":\"LinearScale\"},{\"attributes\":{\"height\":0,\"margin\":[0,0,0,0],\"name\":\"js_area\",\"sizing_mode\":\"fixed\",\"width\":0},\"id\":\"1004\",\"type\":\"panel.models.markup.HTML\"},{\"attributes\":{\"axis_label\":\"y\",\"coordinates\":null,\"formatter\":{\"id\":\"1058\"},\"group\":null,\"major_label_policy\":{\"id\":\"1059\"},\"ticker\":{\"id\":\"1030\"}},\"id\":\"1029\",\"type\":\"LinearAxis\"},{\"attributes\":{\"line_alpha\":0.1,\"line_color\":\"#30a2da\",\"line_width\":2,\"x\":{\"field\":\"x\"},\"y\":{\"field\":\"y\"}},\"id\":\"1112\",\"type\":\"Line\"},{\"attributes\":{\"below\":[{\"id\":\"1088\"}],\"center\":[{\"id\":\"1091\"},{\"id\":\"1095\"}],\"height\":null,\"left\":[{\"id\":\"1092\"}],\"margin\":[10,10,10,10],\"min_border_bottom\":10,\"min_border_left\":10,\"min_border_right\":10,\"min_border_top\":10,\"min_height\":400,\"renderers\":[{\"id\":\"1114\"}],\"sizing_mode\":\"stretch_both\",\"title\":{\"id\":\"1080\"},\"toolbar\":{\"id\":\"1102\"},\"width\":null,\"x_range\":{\"id\":\"1014\"},\"x_scale\":{\"id\":\"1084\"},\"y_range\":{\"id\":\"1015\"},\"y_scale\":{\"id\":\"1086\"}},\"id\":\"1079\",\"subtype\":\"Figure\",\"type\":\"Plot\"},{\"attributes\":{},\"id\":\"1026\",\"type\":\"BasicTicker\"},{\"attributes\":{},\"id\":\"1086\",\"type\":\"LinearScale\"},{\"attributes\":{\"coordinates\":null,\"group\":null,\"text_color\":\"black\",\"text_font_size\":\"12pt\"},\"id\":\"1080\",\"type\":\"Title\"},{\"attributes\":{\"axis_label\":\"x\",\"coordinates\":null,\"formatter\":{\"id\":\"1118\"},\"group\":null,\"major_label_policy\":{\"id\":\"1119\"},\"ticker\":{\"id\":\"1089\"}},\"id\":\"1088\",\"type\":\"LinearAxis\"},{\"attributes\":{},\"id\":\"1089\",\"type\":\"BasicTicker\"},{\"attributes\":{\"axis\":{\"id\":\"1088\"},\"coordinates\":null,\"grid_line_color\":null,\"group\":null,\"ticker\":null},\"id\":\"1091\",\"type\":\"Grid\"},{\"attributes\":{\"source\":{\"id\":\"1108\"}},\"id\":\"1115\",\"type\":\"CDSView\"},{\"attributes\":{\"data\":{\"id\":\"1005\"},\"margin\":[0,0,0,0],\"name\":\"actions\",\"scripts\":{\"close_modal\":[\"document.getElementById(&amp;#x27;pn-Modal&amp;#x27;).style.display = &amp;#x27;none&amp;#x27;\"],\"open_modal\":[\"document.getElementById(&amp;#x27;pn-Modal&amp;#x27;).style.display = &amp;#x27;block&amp;#x27;\"]},\"subscribed_events\":[\"dom_event\"]},\"id\":\"1006\",\"type\":\"panel.models.reactive_html.ReactiveHTML\"},{\"attributes\":{},\"id\":\"1097\",\"type\":\"PanTool\"},{\"attributes\":{\"axis_label\":\"y\",\"coordinates\":null,\"formatter\":{\"id\":\"1121\"},\"group\":null,\"major_label_policy\":{\"id\":\"1122\"},\"ticker\":{\"id\":\"1093\"}},\"id\":\"1092\",\"type\":\"LinearAxis\"},{\"attributes\":{\"end\":1.1997945392750338,\"reset_end\":1.1993834594408257,\"reset_start\":-1.1993834594408257,\"start\":-1.1993834594408257,\"tags\":[[[\"y\",\"y\",null]]]},\"id\":\"1015\",\"type\":\"Range1d\"},{\"attributes\":{\"axis\":{\"id\":\"1092\"},\"coordinates\":null,\"dimension\":1,\"grid_line_color\":null,\"group\":null,\"ticker\":null},\"id\":\"1095\",\"type\":\"Grid\"},{\"attributes\":{},\"id\":\"1093\",\"type\":\"BasicTicker\"},{\"attributes\":{},\"id\":\"1098\",\"type\":\"WheelZoomTool\"},{\"attributes\":{},\"id\":\"1030\",\"type\":\"BasicTicker\"},{\"attributes\":{\"line_color\":\"#30a2da\",\"line_width\":2,\"x\":{\"field\":\"x\"},\"y\":{\"field\":\"y\"}},\"id\":\"1053\",\"type\":\"Line\"},{\"attributes\":{},\"id\":\"1096\",\"type\":\"SaveTool\"},{\"attributes\":{},\"id\":\"1046\",\"type\":\"Selection\"},{\"attributes\":{\"active_header_background\":\"\",\"button_css_classes\":[\"card-button\"],\"children\":[{\"id\":\"1075\"},{\"id\":\"1079\"}],\"collapsed\":false,\"css_classes\":[\"card\"],\"header_background\":\"\",\"header_color\":\"\",\"header_css_classes\":[\"card-header\"],\"margin\":[10,5,10,5],\"name\":\"Card00823\"},\"id\":\"1074\",\"type\":\"panel.models.layout.Card\"},{\"attributes\":{\"overlay\":{\"id\":\"1101\"}},\"id\":\"1099\",\"type\":\"BoxZoomTool\"},{\"attributes\":{},\"id\":\"1100\",\"type\":\"ResetTool\"},{\"attributes\":{\"children\":[{\"id\":\"1076\"}],\"css_classes\":[\"card-header-row\"],\"margin\":[0,0,0,0],\"name\":\"Row00817\",\"sizing_mode\":\"stretch_width\"},\"id\":\"1075\",\"type\":\"Row\"},{\"attributes\":{},\"id\":\"1021\",\"type\":\"LinearScale\"},{\"attributes\":{\"bottom_units\":\"screen\",\"coordinates\":null,\"fill_alpha\":0.5,\"fill_color\":\"lightgrey\",\"group\":null,\"left_units\":\"screen\",\"level\":\"overlay\",\"line_alpha\":1.0,\"line_color\":\"black\",\"line_dash\":[4,4],\"line_width\":2,\"right_units\":\"screen\",\"syncable\":false,\"top_units\":\"screen\"},\"id\":\"1101\",\"type\":\"BoxAnnotation\"},{\"attributes\":{\"line_color\":\"#30a2da\",\"line_width\":2,\"x\":{\"field\":\"x\"},\"y\":{\"field\":\"y\"}},\"id\":\"1111\",\"type\":\"Line\"},{\"attributes\":{},\"id\":\"1134\",\"type\":\"UnionRenderers\"},{\"attributes\":{\"axis\":{\"id\":\"1029\"},\"coordinates\":null,\"dimension\":1,\"grid_line_color\":null,\"group\":null,\"ticker\":null},\"id\":\"1032\",\"type\":\"Grid\"},{\"attributes\":{\"line_alpha\":0.2,\"line_color\":\"#30a2da\",\"line_width\":2,\"x\":{\"field\":\"x\"},\"y\":{\"field\":\"y\"}},\"id\":\"1113\",\"type\":\"Line\"},{\"attributes\":{},\"id\":\"1118\",\"type\":\"BasicTickFormatter\"},{\"attributes\":{\"line_color\":\"#30a2da\",\"line_width\":2,\"x\":{\"field\":\"x\"},\"y\":{\"field\":\"y\"}},\"id\":\"1116\",\"type\":\"Line\"},{\"attributes\":{\"css_classes\":[\"card-title\"],\"margin\":[5,0,5,0],\"name\":\"HTML00824\",\"sizing_mode\":\"stretch_width\",\"text\":\"Cosine\"},\"id\":\"1076\",\"type\":\"panel.models.markup.HTML\"},{\"attributes\":{},\"id\":\"1034\",\"type\":\"PanTool\"},{\"attributes\":{\"coordinates\":null,\"data_source\":{\"id\":\"1045\"},\"glyph\":{\"id\":\"1048\"},\"group\":null,\"hover_glyph\":null,\"muted_glyph\":{\"id\":\"1050\"},\"nonselection_glyph\":{\"id\":\"1049\"},\"selection_glyph\":{\"id\":\"1053\"},\"view\":{\"id\":\"1052\"}},\"id\":\"1051\",\"type\":\"GlyphRenderer\"},{\"attributes\":{\"coordinates\":null,\"data_source\":{\"id\":\"1108\"},\"glyph\":{\"id\":\"1111\"},\"group\":null,\"hover_glyph\":null,\"muted_glyph\":{\"id\":\"1113\"},\"nonselection_glyph\":{\"id\":\"1112\"},\"selection_glyph\":{\"id\":\"1116\"},\"view\":{\"id\":\"1115\"}},\"id\":\"1114\",\"type\":\"GlyphRenderer\"},{\"attributes\":{\"active_drag\":{\"id\":\"1097\"},\"active_scroll\":{\"id\":\"1098\"},\"tools\":[{\"id\":\"1096\"},{\"id\":\"1097\"},{\"id\":\"1098\"},{\"id\":\"1099\"},{\"id\":\"1100\"}]},\"id\":\"1102\",\"type\":\"Toolbar\"},{\"attributes\":{\"active_drag\":{\"id\":\"1034\"},\"active_scroll\":{\"id\":\"1035\"},\"tools\":[{\"id\":\"1033\"},{\"id\":\"1034\"},{\"id\":\"1035\"},{\"id\":\"1036\"},{\"id\":\"1037\"}]},\"id\":\"1039\",\"type\":\"Toolbar\"},{\"attributes\":{\"end\":10,\"margin\":[5,10,5,10],\"name\":\"140277680273776\",\"start\":0,\"step\":0.1,\"tags\":[\"nav\"],\"title\":\"Frequency\",\"value\":2},\"id\":\"1008\",\"type\":\"Slider\"},{\"attributes\":{},\"id\":\"1037\",\"type\":\"ResetTool\"},{\"attributes\":{\"coordinates\":null,\"group\":null,\"text_color\":\"black\",\"text_font_size\":\"12pt\"},\"id\":\"1017\",\"type\":\"Title\"},{\"attributes\":{\"below\":[{\"id\":\"1025\"}],\"center\":[{\"id\":\"1028\"},{\"id\":\"1032\"}],\"height\":null,\"left\":[{\"id\":\"1029\"}],\"margin\":[10,10,10,10],\"min_border_bottom\":10,\"min_border_left\":10,\"min_border_right\":10,\"min_border_top\":10,\"min_height\":400,\"renderers\":[{\"id\":\"1051\"}],\"sizing_mode\":\"stretch_both\",\"title\":{\"id\":\"1017\"},\"toolbar\":{\"id\":\"1039\"},\"width\":null,\"x_range\":{\"id\":\"1014\"},\"x_scale\":{\"id\":\"1021\"},\"y_range\":{\"id\":\"1015\"},\"y_scale\":{\"id\":\"1023\"}},\"id\":\"1016\",\"subtype\":\"Figure\",\"type\":\"Plot\"},{\"attributes\":{\"end\":3.141592653589793,\"reset_end\":3.141592653589793,\"reset_start\":0.0,\"tags\":[[[\"x\",\"x\",null]]]},\"id\":\"1014\",\"type\":\"Range1d\"},{\"attributes\":{\"line_color\":\"#30a2da\",\"line_width\":2,\"x\":{\"field\":\"x\"},\"y\":{\"field\":\"y\"}},\"id\":\"1048\",\"type\":\"Line\"},{\"attributes\":{\"source\":{\"id\":\"1045\"}},\"id\":\"1052\",\"type\":\"CDSView\"},{\"attributes\":{},\"id\":\"1059\",\"type\":\"AllLabels\"},{\"attributes\":{\"css_classes\":[\"card-title\"],\"margin\":[5,0,5,0],\"name\":\"HTML00812\",\"sizing_mode\":\"stretch_width\",\"text\":\"Sine\"},\"id\":\"1013\",\"type\":\"panel.models.markup.HTML\"},{\"attributes\":{},\"id\":\"1121\",\"type\":\"BasicTickFormatter\"},{\"attributes\":{\"bottom_units\":\"screen\",\"coordinates\":null,\"fill_alpha\":0.5,\"fill_color\":\"lightgrey\",\"group\":null,\"left_units\":\"screen\",\"level\":\"overlay\",\"line_alpha\":1.0,\"line_color\":\"black\",\"line_dash\":[4,4],\"line_width\":2,\"right_units\":\"screen\",\"syncable\":false,\"top_units\":\"screen\"},\"id\":\"1038\",\"type\":\"BoxAnnotation\"},{\"attributes\":{\"children\":[{\"id\":\"1013\"}],\"css_classes\":[\"card-header-row\"],\"margin\":[0,0,0,0],\"name\":\"Row00805\",\"sizing_mode\":\"stretch_width\"},\"id\":\"1012\",\"type\":\"Row\"},{\"attributes\":{\"children\":[{\"id\":\"1011\"},{\"id\":\"1074\"}],\"margin\":[0,0,0,0],\"name\":\"140277675298240\",\"tags\":[\"main\"]},\"id\":\"1010\",\"type\":\"Row\"},{\"attributes\":{\"overlay\":{\"id\":\"1038\"}},\"id\":\"1036\",\"type\":\"BoxZoomTool\"},{\"attributes\":{\"line_alpha\":0.1,\"line_color\":\"#30a2da\",\"line_width\":2,\"x\":{\"field\":\"x\"},\"y\":{\"field\":\"y\"}},\"id\":\"1049\",\"type\":\"Line\"},{\"attributes\":{\"active_header_background\":\"\",\"button_css_classes\":[\"card-button\"],\"children\":[{\"id\":\"1012\"},{\"id\":\"1016\"}],\"collapsed\":false,\"css_classes\":[\"card\"],\"header_background\":\"\",\"header_color\":\"\",\"header_css_classes\":[\"card-header\"],\"margin\":[10,5,10,5],\"name\":\"Card00811\"},\"id\":\"1011\",\"type\":\"panel.models.layout.Card\"},{\"attributes\":{\"data\":{\"x\":{\"__ndarray__\":\"AAAAAAAAAACSN2u0yGmwP5I3a7TIacA/W9OgDq2eyD+SN2u0yGnQP3YFhuE6hNQ/W9OgDq2e2D9Aobs7H7ncP5I3a7TIaeA/hJ74ygF34j92BYbhOoTkP2lsE/hzkeY/W9OgDq2e6D9NOi4l5qvqP0Chuzsfuew/MghJUljG7j+SN2u0yGnwPwvrsT9lcPE/hJ74ygF38j/9UT9Wnn3zP3YFhuE6hPQ/8LjMbNeK9T9pbBP4c5H2P+IfWoMQmPc/W9OgDq2e+D/UhueZSaX5P006LiXmq/o/xu10sIKy+z9Aobs7H7n8P7lUAse7v/0/MghJUljG/j+ru4/d9Mz/P5I3a7TIaQBAT5EO+hbtAEAL67E/ZXABQMhEVYWz8wFAhJ74ygF3AkBB+JsQUPoCQP1RP1aefQNAuqvim+wABEB2BYbhOoQEQDNfKSeJBwVA8LjMbNeKBUCsEnCyJQ4GQGlsE/hzkQZAJca2PcIUB0DiH1qDEJgHQJ55/cheGwhAW9OgDq2eCEAYLURU+yEJQA==\",\"dtype\":\"float64\",\"order\":\"little\",\"shape\":[50]},\"y\":{\"__ndarray__\":\"AAAAAAAA8D/r2DtpvrzvPwHtSlsU9O4/B0zdVE2p7T8/TFPD1+HrP7S8Dy4upek/Gbm4xrf85j/R7YvioPPjP8ZC7AKsluA/VUcrZfjn2T9G99gxszXSP8uDzvTEbcQ/8DLpehBpoD9iu+8L95S4v4FFAuOQe8y//+16B3Ya1r9t224zOprdvz0WF5nHTuK/K88XKH2D5b/nvBvqw13ov5OqNSWe0eq/cFzLqbzU7L/Gu28oql7uv+m1y7/uaO+/a88hLSvv779tzyEtK+/vv+m1y7/uaO+/ybtvKKpe7r9wXMupvNTsv5eqNSWe0eq/67wb6sNd6L8xzxcofYPlv0IWF5nHTuK/cNtuMzqa3b8K7noHdhrWv4pFAuOQe8y/o7vvC/eUuL+tMul6EGmgP6qDzvTEbcQ/OvfYMbM10j9CRytl+OfZP8BC7AKsluA/z+2L4qDz4z8UubjGt/zmP7G8Dy4upek/O0xTw9fh6z8GTN1UTantP//sSlsU9O4/6tg7ab687z8AAAAAAADwPw==\",\"dtype\":\"float64\",\"order\":\"little\",\"shape\":[50]}},\"selected\":{\"id\":\"1109\"},\"selection_policy\":{\"id\":\"1134\"}},\"id\":\"1108\",\"type\":\"ColumnDataSource\"},{\"attributes\":{},\"id\":\"1119\",\"type\":\"AllLabels\"},{\"attributes\":{},\"id\":\"1109\",\"type\":\"Selection\"},{\"attributes\":{},\"id\":\"1055\",\"type\":\"BasicTickFormatter\"},{\"attributes\":{\"end\":3.141592653589793,\"margin\":[5,10,5,10],\"name\":\"140277679322112\",\"start\":0,\"step\":0.1,\"tags\":[\"nav\"],\"title\":\"Phase\",\"value\":0},\"id\":\"1009\",\"type\":\"Slider\"},{\"attributes\":{},\"id\":\"1058\",\"type\":\"BasicTickFormatter\"},{\"attributes\":{},\"id\":\"1122\",\"type\":\"AllLabels\"},{\"attributes\":{},\"id\":\"1071\",\"type\":\"UnionRenderers\"},{\"attributes\":{},\"id\":\"1056\",\"type\":\"AllLabels\"},{\"attributes\":{\"line_alpha\":0.2,\"line_color\":\"#30a2da\",\"line_width\":2,\"x\":{\"field\":\"x\"},\"y\":{\"field\":\"y\"}},\"id\":\"1050\",\"type\":\"Line\"},{\"attributes\":{\"name\":\"TemplateActions00785\"},\"id\":\"1005\",\"type\":\"TemplateActions1\"},{\"attributes\":{\"name\":\"location\",\"reload\":false},\"id\":\"1002\",\"type\":\"panel.models.location.Location\"},{\"attributes\":{},\"id\":\"1033\",\"type\":\"SaveTool\"},{\"attributes\":{\"data\":{\"x\":{\"__ndarray__\":\"AAAAAAAAAACSN2u0yGmwP5I3a7TIacA/W9OgDq2eyD+SN2u0yGnQP3YFhuE6hNQ/W9OgDq2e2D9Aobs7H7ncP5I3a7TIaeA/hJ74ygF34j92BYbhOoTkP2lsE/hzkeY/W9OgDq2e6D9NOi4l5qvqP0Chuzsfuew/MghJUljG7j+SN2u0yGnwPwvrsT9lcPE/hJ74ygF38j/9UT9Wnn3zP3YFhuE6hPQ/8LjMbNeK9T9pbBP4c5H2P+IfWoMQmPc/W9OgDq2e+D/UhueZSaX5P006LiXmq/o/xu10sIKy+z9Aobs7H7n8P7lUAse7v/0/MghJUljG/j+ru4/d9Mz/P5I3a7TIaQBAT5EO+hbtAEAL67E/ZXABQMhEVYWz8wFAhJ74ygF3AkBB+JsQUPoCQP1RP1aefQNAuqvim+wABEB2BYbhOoQEQDNfKSeJBwVA8LjMbNeKBUCsEnCyJQ4GQGlsE/hzkQZAJca2PcIUB0DiH1qDEJgHQJ55/cheGwhAW9OgDq2eCEAYLURU+yEJQA==\",\"dtype\":\"float64\",\"order\":\"little\",\"shape\":[50]},\"y\":{\"__ndarray__\":\"AAAAAAAAAACPjathR17AP+/Ll2/gO9A/3mJO5l8E2D+hhluX6mffP6JL+7G4I+M/w6xnDQhD5j9M3gV1wwTpP/qbEFtUXes/NOHcQt5C7T+Vm5A0aK3uP8YaX0D+lu8/zE9shMr77z8foCdMJdrvP2vpWAWcMu8/zQmh7e4H7j//5zCCBV/sP46TUuLZPuo/M2Fse1uw5z+378V5Sb7kPynU8JsFdeE/wqtxTcDE2z/AL8eouyrUP+NvT83id8g/3fV26+dmsD+s9Xbr52awv8xvT83id8i/tS/HqLsq1L+/q3FNwMTbvyTU8JsFdeG/s+/FeUm+5L8vYWx7W7Dnv4uTUuLZPuq//ecwggVf7L/LCaHt7gfuv2rpWAWcMu+/HaAnTCXa77/MT2yEyvvvv8caX0D+lu+/l5uQNGit7r844dxC3kLtv/2bEFtUXeu/Td4FdcME6b/IrGcNCEPmv6VL+7G4I+O/r4Zbl+pn37/mYk7mXwTYvwDMl2/gO9C/po2rYUdewL8HXBQzJqaxvA==\",\"dtype\":\"float64\",\"order\":\"little\",\"shape\":[50]}},\"selected\":{\"id\":\"1046\"},\"selection_policy\":{\"id\":\"1071\"}},\"id\":\"1045\",\"type\":\"ColumnDataSource\"},{\"attributes\":{},\"id\":\"1023\",\"type\":\"LinearScale\"}],\"root_ids\":[\"1002\",\"1004\",\"1006\",\"1007\",\"1008\",\"1009\",\"1010\",\"1281\"]},\"title\":\"Bootstrap Template\",\"version\":\"2.4.3\"}}\n",
       "        </script>\n",
       "        <script type=\"text/javascript\">\n",
       "          (function() {\n",
       "            const fn = function() {\n",
       "              Bokeh.safely(function() {\n",
       "                (function(root) {\n",
       "                  function embed_document(root) {\n",
       "                  const docs_json = document.getElementById('1322').textContent;\n",
       "                  const render_items = [{\"docid\":\"4ebeca28-a131-466b-ad9f-e243f6413a4e\",\"root_ids\":[\"1002\",\"1004\",\"1006\",\"1007\",\"1008\",\"1009\",\"1010\"],\"roots\":{\"1002\":\"a7782ae1-c9cf-4d41-bea9-ad26cb7b9267\",\"1004\":\"3479e30d-ec21-4640-b1f3-c301dc18005d\",\"1006\":\"53bc1191-d795-43f5-82f6-0cb428b26fba\",\"1007\":\"98cb4a53-f953-457f-bff2-74074ff2cb30\",\"1008\":\"29879f7a-6fb8-4485-8c9f-a650f470fefa\",\"1009\":\"a70f2d67-f1fc-4712-8672-523c852a5889\",\"1010\":\"c9b5ccce-b5ae-4716-bb7f-cf4c17fe137c\"}}];\n",
       "                  root.Bokeh.embed.embed_items(docs_json, render_items);\n",
       "                  }\n",
       "                  if (root.Bokeh !== undefined) {\n",
       "                    embed_document(root);\n",
       "                  } else {\n",
       "                    let attempts = 0;\n",
       "                    const timer = setInterval(function(root) {\n",
       "                      if (root.Bokeh !== undefined) {\n",
       "                        clearInterval(timer);\n",
       "                        embed_document(root);\n",
       "                      } else {\n",
       "                        attempts++;\n",
       "                        if (attempts > 100) {\n",
       "                          clearInterval(timer);\n",
       "                          console.log(\"Bokeh: ERROR: Unable to run BokehJS code because BokehJS library is missing\");\n",
       "                        }\n",
       "                      }\n",
       "                    }, 10, root)\n",
       "                  }\n",
       "                })(window);\n",
       "              });\n",
       "            };\n",
       "            if (document.readyState != \"loading\") fn();\n",
       "            else document.addEventListener(\"DOMContentLoaded\", fn);\n",
       "          })();\n",
       "        </script>\n"
      ],
      "text/plain": [
       "BootstrapTemplate\n",
       "    [js_area] HTML(None, height=0, margin=0, sizing_mode='fixed', width=0)\n",
       "    [actions] TemplateActions()\n",
       "    [busy_indicator] LoadingSpinner(height=20, width=20)\n",
       "    [140277680273776] FloatSlider(end=10, name='Frequency', value=2)\n",
       "    [140277679322112] FloatSlider(end=3.141592653589793, name='Phase')\n",
       "    [140277675298240] Row\n",
       "        [0] Card(margin=(10, 5), title='Sine')\n",
       "            [0] HoloViews(DynamicMap, margin=(10, 10), sizing_mode='stretch_both')\n",
       "        [1] Card(margin=(10, 5), title='Cosine')\n",
       "            [0] HoloViews(DynamicMap, margin=(10, 10), sizing_mode='stretch_both')"
      ]
     },
     "execution_count": 3,
     "metadata": {
      "application/vnd.holoviews_exec.v0+json": {
       "id": "1002"
      }
     },
     "output_type": "execute_result"
    }
   ],
   "source": [
    "bootstrap.servable(area='main')"
   ]
  },
  {
   "cell_type": "code",
   "execution_count": null,
   "id": "66e6843a-f57f-42b5-a9a7-11bbe2bd71ce",
   "metadata": {},
   "outputs": [],
   "source": []
  },
  {
   "cell_type": "code",
   "execution_count": null,
   "id": "89838efe-f99f-46c3-9b71-884aaa935acf",
   "metadata": {},
   "outputs": [],
   "source": []
  }
 ],
 "metadata": {
  "kernelspec": {
   "display_name": "Python 3 (ipykernel)",
   "language": "python",
   "name": "python3"
  },
  "language_info": {
   "codemirror_mode": {
    "name": "ipython",
    "version": 3
   },
   "file_extension": ".py",
   "mimetype": "text/x-python",
   "name": "python",
   "nbconvert_exporter": "python",
   "pygments_lexer": "ipython3",
   "version": "3.10.6"
  }
 },
 "nbformat": 4,
 "nbformat_minor": 5
}
