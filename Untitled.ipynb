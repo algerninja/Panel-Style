{
 "cells": [
  {
   "cell_type": "code",
   "execution_count": null,
   "id": "c9f0984d-0728-4861-aa73-6d6aadf39512",
   "metadata": {},
   "outputs": [],
   "source": [
    "import pandas as pd\n",
    "import numpy as np\n",
    "import panel as pn\n",
    "import geopandas as gpd\n",
    "\n",
    "import matplotlib.pyplot as plt\n",
    "\n",
    "import plotly.express as px\n",
    "import holoviews as hv\n"
   ]
  },
  {
   "cell_type": "code",
   "execution_count": null,
   "id": "fd76fe02",
   "metadata": {},
   "outputs": [],
   "source": [
    "css_files = [\n",
    "    \"./css/panel-custom-style/components/alerts.css\",\n",
    "    \"./css/panel-custom-style/components/bk.css\",\n",
    "    \"./css/panel-custom-style/components/card.css\",\n",
    "    \"./css/panel-custom-style/components/custom.css\",\n",
    "    \"./css/panel-custom-style/components/dataframe.css\",\n",
    "    \"./css/panel-custom-style/components/debugger.css\",\n",
    "    \"./css/panel-custom-style/components/json.css\",\n",
    "    \"./css/panel-custom-style/components/loading.css\",\n",
    "    \"./css/panel-custom-style/components/markdown.css\",\n",
    "    \"./css/panel-custom-style/components/widgets.css\",\n",
    "]"
   ]
  },
  {
   "cell_type": "code",
   "execution_count": null,
   "id": "260527e7",
   "metadata": {},
   "outputs": [],
   "source": [
    "pn.extension(\n",
    "    sizing_mode=\"stretch_width\",\n",
    "    template=\"bootstrap\",\n",
    "    css_files=css_files,\n",
    ")\n"
   ]
  },
  {
   "cell_type": "code",
   "execution_count": null,
   "id": "7f4bc355",
   "metadata": {},
   "outputs": [],
   "source": [
    "csv_file = \"EDO_PORTUGUESA_COMPLETE.csv\"\n",
    "data = pd.read_csv(csv_file)\n",
    "data[\"NOMBRE_COMPLETO\"] = data[\"PRIMER_NOMBRE\"] + \" \" + data[\"PRIMER_APELLIDO\"]\n"
   ]
  },
  {
   "cell_type": "code",
   "execution_count": null,
   "id": "54bd4f37",
   "metadata": {},
   "outputs": [],
   "source": [
    "df1 = data.copy()\n",
    "df_data_graph1 = df1.groupby([\"CARGO_POSTULADO\"])[\"VOTOS\"].sum().reset_index()\n",
    "\n",
    "\n",
    "def graph_bar_cargo(df: pd.DataFrame, x: str = \"\", y: str = \"\", x_label: str = \"\", y_label: str = \"\"):\n",
    "    fig = px.bar(\n",
    "        df,\n",
    "        x=\"CARGO_POSTULADO\",\n",
    "        y=\"VOTOS\",\n",
    "        color=\"CARGO_POSTULADO\",\n",
    "        color_discrete_map={\"ALCALDE\": \"#a3592e\", \"GOBERNADOR\": \"#2aa132\"},\n",
    "        labels={\"VOTOS\": \"Votos\", \"CARGO_POSTULADO\": \"Cargo\"},\n",
    "        text_auto=True,\n",
    "    )\n",
    "\n",
    "    fig.update_traces(textfont_size=22, textangle=10)\n",
    "    fig.update_xaxes(title_text=\"Cargo\", title_font={\"size\": 22}, title_standoff=25)\n",
    "\n",
    "    fig.update_layout(hovermode=\"y unified\")\n",
    "\n",
    "    return fig\n",
    "\n",
    "\n",
    "fig_bar_cargo = graph_bar_cargo(df_data_graph1)\n"
   ]
  },
  {
   "cell_type": "code",
   "execution_count": null,
   "id": "543ff6b6",
   "metadata": {},
   "outputs": [],
   "source": [
    "\n",
    "\n",
    "df2 = data.copy()\n",
    "df2[\"PORCENTAJE\"] = df2[\"PORCENTAJE\"].str.replace(\"%\", \"\").astype(float)\n",
    "df_data_graph2 = df2.groupby([\"CARGO_POSTULADO\", \"MUNICIPIO\", \"PARROQUIA\", \"NOMBRE_COMPLETO\"])[\"VOTOS\"].sum().reset_index()\n",
    "\n",
    "\n",
    "def graph_pie_porcentaje(df: pd.DataFrame, values: str, names: str, hole: float = 0.2):\n",
    "    fig = px.pie(df, values=values, names=names, color=names, hole=hole)\n",
    "    fig.update_traces(marker=dict(line=dict(color=\"black\", width=2)))\n",
    "\n",
    "    return fig\n",
    "\n",
    "\n",
    "fig_pie_porcentaje = graph_pie_porcentaje(df_data_graph2, \"VOTOS\", \"MUNICIPIO\")\n"
   ]
  },
  {
   "cell_type": "code",
   "execution_count": null,
   "id": "f7ff4843",
   "metadata": {},
   "outputs": [],
   "source": [
    "\n"
   ]
  },
  {
   "cell_type": "code",
   "execution_count": null,
   "id": "8bef224a",
   "metadata": {},
   "outputs": [],
   "source": [
    "from urllib.request import urlopen\n",
    "import json\n",
    "\n",
    "f = open(\n",
    "    \"./geojson-counties-fips.json\",\n",
    ")\n",
    "\n",
    "# returns JSON object as\n",
    "# a dictionary\n",
    "gdf = gpd.read_file(\"./geojson-counties-fips.json\")\n",
    "data = json.load(f)\n",
    "data\n",
    "\n",
    "import pandas as pd\n",
    "\n",
    "df = pd.read_csv(\"fips-unemp-16.csv\", dtype={\"fips\": str})\n",
    "\n",
    "gdf = gpd.read_file(\"./geojson-counties-fips.json\")\n",
    "df_merge = df.merge(gdf, left_on=\"fips\", right_on=\"id\")\n",
    "import plotly.express as px\n"
   ]
  },
  {
   "cell_type": "code",
   "execution_count": null,
   "id": "bc8917da",
   "metadata": {},
   "outputs": [],
   "source": [
    "gds_name = gdf.NAME.unique()\n",
    "gds_lsad = gdf.LSAD.unique()\n"
   ]
  },
  {
   "attachments": {},
   "cell_type": "markdown",
   "id": "5670af42",
   "metadata": {},
   "source": [
    "## Component Sidebar"
   ]
  },
  {
   "cell_type": "code",
   "execution_count": null,
   "id": "07c23bb4",
   "metadata": {},
   "outputs": [],
   "source": [
    "text1 = pn.pane.Str(\"Saludos\", css_classes=[\"hola\"])\n",
    "text2 = pn.pane.Str(\"Despido\")\n",
    "\n",
    "\n",
    "\n",
    "freq = pn.widgets.FloatSlider(name=\"Frequency\", start=0, end=10, value=5)\n",
    "ampl = pn.widgets.FloatSlider(name=\"Amplitude\", start=0, end=1, value=0.5)\n",
    "\n",
    "select = pn.widgets.Select(name=\"Select\", options=gds_lsad.tolist())\n",
    "btn = pn.widgets.Button(name=\"Click me\", css_classes=[\"btn\", \"btn-primary\"])\n"
   ]
  },
  {
   "attachments": {},
   "cell_type": "markdown",
   "id": "daf991fc",
   "metadata": {},
   "source": [
    "## Layout Sidebar"
   ]
  },
  {
   "cell_type": "code",
   "execution_count": null,
   "id": "f4b5b974",
   "metadata": {},
   "outputs": [],
   "source": [
    "text1.servable(target=\"sidebar\")\n",
    "text2.servable(target=\"sidebar\")\n",
    "\n",
    "freq.servable(target=\"sidebar\")\n",
    "ampl.servable(target=\"sidebar\")\n",
    "\n",
    "select.servable(target=\"sidebar\")\n",
    "btn.servable(target=\"sidebar\")\n"
   ]
  },
  {
   "attachments": {},
   "cell_type": "markdown",
   "id": "8a2b8df9",
   "metadata": {},
   "source": [
    "## Component Main"
   ]
  },
  {
   "cell_type": "code",
   "execution_count": null,
   "id": "5e05841a",
   "metadata": {},
   "outputs": [],
   "source": [
    "plot = pn.Row(\n",
    "    pn.Card(pn.pane.Plotly(fig_bar_cargo, width=None, config={\"responsive\": True})),\n",
    "    pn.Card(pn.pane.Plotly(fig_pie_porcentaje, width=None, config={\"responsive\": True})),\n",
    ")\n",
    "\n",
    "\n",
    "def fig_maps(df, data, select_country):\n",
    "    df = df.loc[df[\"LSAD\"].isin([select_country]),]\n",
    "\n",
    "    fig = px.choropleth(\n",
    "        df,\n",
    "        geojson=data,\n",
    "        locations=\"fips\",\n",
    "        color=\"unemp\",\n",
    "        color_continuous_scale=\"Viridis\",\n",
    "        range_color=(0, 12),\n",
    "        scope=\"usa\",\n",
    "        labels={\"unemp\": \"unemployment rate\"},\n",
    "    )\n",
    "    fig.update_layout(margin={\"r\": 0, \"t\": 0, \"l\": 0, \"b\": 0})\n",
    "    return fig\n"
   ]
  },
  {
   "attachments": {},
   "cell_type": "markdown",
   "id": "9fac8de0",
   "metadata": {},
   "source": [
    "## Layout main"
   ]
  },
  {
   "cell_type": "code",
   "execution_count": null,
   "id": "d7ccee17",
   "metadata": {},
   "outputs": [],
   "source": [
    "pn.Column(\"# Static\", pn.Card(plot)).servable(target=\"main\")\n",
    "\n",
    "pn.Column(\n",
    "    \"# Dinamic\",\n",
    "    # pn.bind(plot, freq, ampl),\n",
    "        pn.Row(\n",
    "            pn.Card(\n",
    "                pn.bind(graph_pie_porcentaje, df_data_graph2, \"VOTOS\", \"MUNICIPIO\", ampl),\n",
    "                title=\"Grafico de Pae\"\n",
    "            ),\n",
    "            pn.Card(\n",
    "                pn.bind(fig_maps, df_merge, data, select),\n",
    "                title=\"Mapa\"\n",
    "                \n",
    "            ),\n",
    "        ),\n",
    "        \n",
    "        \n",
    ").servable(target=\"main\")\n"
   ]
  }
 ],
 "metadata": {
  "kernelspec": {
   "display_name": "Python 3 (ipykernel)",
   "language": "python",
   "name": "python3"
  },
  "language_info": {
   "codemirror_mode": {
    "name": "ipython",
    "version": 3
   },
   "file_extension": ".py",
   "mimetype": "text/x-python",
   "name": "python",
   "nbconvert_exporter": "python",
   "pygments_lexer": "ipython3",
   "version": "3.10.6"
  }
 },
 "nbformat": 4,
 "nbformat_minor": 5
}
